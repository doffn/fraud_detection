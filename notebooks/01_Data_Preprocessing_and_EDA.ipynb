{
  "cells": [
    {
      "cell_type": "markdown",
      "metadata": {
        "id": "OZUu0UnYTltF"
      },
      "source": [
        "# Fraud Detection Project - Data Preprocessing and EDA\n",
        "## 10 Academy: Artificial Intelligence Mastery Week 8&9 Challenge\n",
        "\n",
        "\n",
        "---\n",
        "\n",
        "## Table of Contents\n",
        "1. [Project Setup and Data Loading](#1-project-setup-and-data-loading)\n",
        "2. [Data Understanding and Initial Exploration](#2-data-understanding-and-initial-exploration)\n",
        "3. [Data Cleaning and Preprocessing](#3-data-cleaning-and-preprocessing)\n",
        "4. [Exploratory Data Analysis (EDA)](#4-exploratory-data-analysis-eda)\n",
        "5. [Feature Engineering](#5-feature-engineering)\n",
        "6. [Geolocation Analysis](#6-geolocation-analysis)\n",
        "7. [Class Imbalance Analysis](#7-class-imbalance-analysis)\n",
        "8. [Key Insights and Patterns](#8-key-insights-and-patterns)\n",
        "9. [Summary and Next Steps](#9-summary-and-next-steps)\n",
        "\n",
        "---"
      ]
    },
    {
      "cell_type": "markdown",
      "metadata": {
        "id": "5Um_ysfvTltQ"
      },
      "source": [
        "## 1. Project Setup and Data Loading\n",
        "\n",
        "### 1.1 Import Required Libraries"
      ]
    },
    {
      "cell_type": "code",
      "execution_count": 1,
      "metadata": {
        "colab": {
          "base_uri": "https://localhost:8080/"
        },
        "id": "QvBVy7PhTltT",
        "outputId": "a8682c8d-ce89-4d31-b431-87779bfcfd90"
      },
      "outputs": [
        {
          "name": "stdout",
          "output_type": "stream",
          "text": [
            "✅ All libraries imported successfully!\n",
            "📊 Analysis started at: 2025-07-26 15:18:12\n"
          ]
        }
      ],
      "source": [
        "# Data manipulation and analysis\n",
        "import pandas as pd\n",
        "import numpy as np\n",
        "from datetime import datetime, timedelta\n",
        "import warnings\n",
        "warnings.filterwarnings('ignore')\n",
        "\n",
        "# Visualization libraries\n",
        "import matplotlib.pyplot as plt\n",
        "import seaborn as sns\n",
        "import plotly.express as px\n",
        "import plotly.graph_objects as go\n",
        "from plotly.subplots import make_subplots\n",
        "\n",
        "# Statistical analysis\n",
        "from scipy import stats\n",
        "from scipy.stats import chi2_contingency, pearsonr\n",
        "\n",
        "# Machine learning preprocessing\n",
        "from sklearn.preprocessing import StandardScaler, LabelEncoder\n",
        "from sklearn.model_selection import train_test_split\n",
        "\n",
        "# Set display options\n",
        "pd.set_option('display.max_columns', None)\n",
        "pd.set_option('display.max_rows', 100)\n",
        "plt.style.use('seaborn-v0_8')\n",
        "sns.set_palette(\"husl\")\n",
        "\n",
        "print(\"✅ All libraries imported successfully!\")\n",
        "print(f\"📊 Analysis started at: {datetime.now().strftime('%Y-%m-%d %H:%M:%S')}\")"
      ]
    },
    {
      "cell_type": "markdown",
      "metadata": {
        "id": "9E771kkHTltY"
      },
      "source": [
        "### 1.2 Load Datasets"
      ]
    },
    {
      "cell_type": "code",
      "execution_count": 2,
      "metadata": {
        "colab": {
          "base_uri": "https://localhost:8080/"
        },
        "id": "Fjq3ZLv6Tw8c",
        "outputId": "fb9746df-9339-46fe-d14b-7df6c7581223"
      },
      "outputs": [
        {
          "name": "stdout",
          "output_type": "stream",
          "text": [
            "Mounted at /content/drive\n"
          ]
        }
      ],
      "source": [
        "from google.colab import drive\n",
        "drive.mount('/content/drive')"
      ]
    },
    {
      "cell_type": "code",
      "execution_count": 8,
      "metadata": {
        "colab": {
          "base_uri": "https://localhost:8080/"
        },
        "id": "hj6c24ZrTltZ",
        "outputId": "c8b3949d-8082-4dca-e59d-88f87587a6db"
      },
      "outputs": [
        {
          "name": "stdout",
          "output_type": "stream",
          "text": [
            "✅ Fraud_Data.csv loaded successfully! Shape: (151112, 11)\n",
            "✅ IpAddress_to_Country.csv loaded successfully! Shape: (138846, 3)\n",
            "✅ Unzipped /content/drive/MyDrive/kaim 6/week8/data/creditcard.csv.zip to /content/drive/MyDrive/kaim 6/week8/data/extracted_creditcard\n",
            "✅ Extracted credit card data loaded successfully!\n",
            "creditcard.csv shape: (284807, 31)\n"
          ]
        }
      ],
      "source": [
        "import pandas as pd\n",
        "import zipfile\n",
        "import os\n",
        "\n",
        "# Load Fraud_Data.csv\n",
        "fraud_df = pd.read_csv(\"/content/drive/MyDrive/kaim 6/week8/data/Fraud_Data.csv\")\n",
        "print(f\"✅ Fraud_Data.csv loaded successfully! Shape: {fraud_df.shape}\")\n",
        "\n",
        "# Load IpAddress_to_Country.csv\n",
        "ip_country_df = pd.read_csv(\"/content/drive/MyDrive/kaim 6/week8/data/IpAddress_to_Country.csv\")\n",
        "print(f\"✅ IpAddress_to_Country.csv loaded successfully! Shape: {ip_country_df.shape}\")\n",
        "\n",
        "# Unzip and load creditcard.csv.zip\n",
        "zip_file_path = \"/content/drive/MyDrive/kaim 6/week8/data/creditcard.csv.zip\"\n",
        "extracted_dir = \"/content/drive/MyDrive/kaim 6/week8/data/extracted_creditcard\"\n",
        "\n",
        "# Create the extraction directory if it doesn't exist\n",
        "if not os.path.exists(extracted_dir):\n",
        "    os.makedirs(extracted_dir)\n",
        "\n",
        "with zipfile.ZipFile(zip_file_path, 'r') as zip_ref:\n",
        "    zip_ref.extractall(extracted_dir)\n",
        "\n",
        "print(f\"✅ Unzipped {zip_file_path} to {extracted_dir}\")\n",
        "\n",
        "# Assuming the extracted file is named creditcard.csv\n",
        "extracted_file_path = os.path.join(extracted_dir, 'creditcard.csv')\n",
        "\n",
        "credit_card_df = pd.read_csv(extracted_file_path)\n",
        "\n",
        "print(\"✅ Extracted credit card data loaded successfully!\")\n",
        "print(f\"creditcard.csv shape: {credit_card_df.shape}\")"
      ]
    },
    {
      "cell_type": "markdown",
      "metadata": {
        "id": "r5oagPvSTltc"
      },
      "source": [
        "## 2. Data Understanding and Initial Exploration"
      ]
    },
    {
      "cell_type": "code",
      "execution_count": 9,
      "metadata": {
        "colab": {
          "base_uri": "https://localhost:8080/"
        },
        "id": "7aUwatEHTltd",
        "outputId": "32ce7ffa-4699-4b15-e27c-3a39d2d6bbca"
      },
      "outputs": [
        {
          "name": "stdout",
          "output_type": "stream",
          "text": [
            "📊 FRAUD DATASET OVERVIEW\n",
            "==============================\n",
            "Shape: (151112, 11)\n",
            "Features: ['user_id', 'signup_time', 'purchase_time', 'purchase_value', 'device_id', 'source', 'browser', 'sex', 'age', 'ip_address', 'class']\n",
            "\n",
            "Data Types:\n",
            "user_id             int64\n",
            "signup_time        object\n",
            "purchase_time      object\n",
            "purchase_value      int64\n",
            "device_id          object\n",
            "source             object\n",
            "browser            object\n",
            "sex                object\n",
            "age                 int64\n",
            "ip_address        float64\n",
            "class               int64\n",
            "dtype: object\n",
            "\n",
            "Missing Values:\n",
            "user_id           0\n",
            "signup_time       0\n",
            "purchase_time     0\n",
            "purchase_value    0\n",
            "device_id         0\n",
            "source            0\n",
            "browser           0\n",
            "sex               0\n",
            "age               0\n",
            "ip_address        0\n",
            "class             0\n",
            "dtype: int64\n",
            "\n",
            "Class Distribution:\n",
            "class\n",
            "0    0.906354\n",
            "1    0.093646\n",
            "Name: proportion, dtype: float64\n"
          ]
        }
      ],
      "source": [
        "# Dataset overview\n",
        "print(\"📊 FRAUD DATASET OVERVIEW\")\n",
        "print(\"=\" * 30)\n",
        "print(f\"Shape: {fraud_df.shape}\")\n",
        "print(f\"Features: {list(fraud_df.columns)}\")\n",
        "print(\"\\nData Types:\")\n",
        "print(fraud_df.dtypes)\n",
        "print(\"\\nMissing Values:\")\n",
        "print(fraud_df.isnull().sum())\n",
        "print(\"\\nClass Distribution:\")\n",
        "print(fraud_df['class'].value_counts(normalize=True))"
      ]
    },
    {
      "cell_type": "markdown",
      "metadata": {
        "id": "k2YPB96BTltg"
      },
      "source": [
        "## 3. Data Cleaning and Preprocessing"
      ]
    },
    {
      "cell_type": "code",
      "execution_count": 10,
      "metadata": {
        "colab": {
          "base_uri": "https://localhost:8080/"
        },
        "id": "AVms99xlTlth",
        "outputId": "816d98a0-37de-41e6-b465-96ea8410cb88"
      },
      "outputs": [
        {
          "name": "stdout",
          "output_type": "stream",
          "text": [
            "🧹 CLEANING DATA...\n",
            "✅ Cleaned data shape: (151112, 12)\n"
          ]
        }
      ],
      "source": [
        "def clean_fraud_data(df):\n",
        "    \"\"\"Clean and preprocess fraud data\"\"\"\n",
        "    print(\"🧹 CLEANING DATA...\")\n",
        "\n",
        "    df_clean = df.copy()\n",
        "\n",
        "    # Convert data types\n",
        "    df_clean['signup_time'] = pd.to_datetime(df_clean['signup_time'])\n",
        "    df_clean['purchase_time'] = pd.to_datetime(df_clean['purchase_time'])\n",
        "\n",
        "    # IP to integer conversion\n",
        "    # The ip_address column is already float, no need to convert from string\n",
        "    # Instead, directly cast to integer, handling potential NaNs if any (though none observed)\n",
        "    df_clean['ip_address_int'] = df_clean['ip_address'].fillna(0).astype(int)\n",
        "\n",
        "\n",
        "    # Ensure there are still rows after cleaning\n",
        "    if df_clean.shape[0] == 0:\n",
        "        print(\"⚠️ Warning: Cleaned DataFrame is empty!\")\n",
        "\n",
        "    print(f\"✅ Cleaned data shape: {df_clean.shape}\")\n",
        "    return df_clean\n",
        "\n",
        "fraud_df_clean = clean_fraud_data(fraud_df)"
      ]
    },
    {
      "cell_type": "markdown",
      "metadata": {
        "id": "qkgt2gq9Tltj"
      },
      "source": [
        "## 4. Exploratory Data Analysis (EDA)"
      ]
    },
    {
      "cell_type": "code",
      "execution_count": 11,
      "metadata": {
        "colab": {
          "base_uri": "https://localhost:8080/",
          "height": 641
        },
        "id": "fWq-LRWZTltj",
        "outputId": "981c2bb5-ee4f-460c-95dc-42db4cdaaec6"
      },
      "outputs": [
        {
          "data": {
            "image/png": "[encoded data removed]",
            "text/plain": [
              "<Figure size 1500x600 with 2 Axes>"
            ]
          },
          "metadata": {},
          "output_type": "display_data"
        },
        {
          "name": "stdout",
          "output_type": "stream",
          "text": [
            "Fraud rate: 9.36%\n",
            "Imbalance ratio: 9.7:1\n"
          ]
        }
      ],
      "source": [
        "# Class distribution visualization\n",
        "fig, axes = plt.subplots(1, 2, figsize=(15, 6))\n",
        "\n",
        "# Check if class_counts is empty\n",
        "class_counts = fraud_df_clean['class'].value_counts()\n",
        "\n",
        "if not class_counts.empty:\n",
        "    # Pie chart\n",
        "    axes[0].pie(class_counts.values, labels=['Non-Fraud', 'Fraud'], autopct='%1.2f%%', colors=['lightblue', 'red'])\n",
        "    axes[0].set_title('Class Distribution')\n",
        "\n",
        "    # Bar chart\n",
        "    axes[1].bar(['Non-Fraud', 'Fraud'], class_counts.values, color=['lightblue', 'red'])\n",
        "    axes[1].set_ylabel('Count')\n",
        "    axes[1].set_title('Class Counts')\n",
        "    axes[1].set_yscale('log')\n",
        "\n",
        "    plt.tight_layout()\n",
        "    plt.show()\n",
        "\n",
        "    print(f\"Fraud rate: {fraud_df_clean['class'].mean()*100:.2f}%\")\n",
        "    print(f\"Imbalance ratio: {class_counts[0]/class_counts[1]:.1f}:1\")\n",
        "else:\n",
        "    print(\"⚠️ Cannot plot class distribution: fraud_df_clean is empty or contains no class data.\")"
      ]
    },
    {
      "cell_type": "markdown",
      "metadata": {
        "id": "BqKiSwNtTltk"
      },
      "source": [
        "## 5. Feature Engineering"
      ]
    },
    {
      "cell_type": "code",
      "execution_count": 19,
      "metadata": {
        "colab": {
          "base_uri": "https://localhost:8080/"
        },
        "id": "_SArG9v3Tltl",
        "outputId": "b7484331-72fa-4cc0-e825-521bbfa70911"
      },
      "outputs": [
        {
          "name": "stdout",
          "output_type": "stream",
          "text": [
            "🔧 CREATING FEATURES...\n",
            "✅ Created features. New shape: (151112, 29)\n"
          ]
        }
      ],
      "source": [
        "def create_features(df):\n",
        "    \"\"\"Create comprehensive feature set\"\"\"\n",
        "    print(\"🔧 CREATING FEATURES...\")\n",
        "\n",
        "    # Time features\n",
        "    df['hour'] = df['purchase_time'].dt.hour\n",
        "    df['day_of_week'] = df['purchase_time'].dt.dayofweek\n",
        "    df['is_weekend'] = df['day_of_week'].isin([5, 6]).astype(int)\n",
        "    df['is_night'] = df['hour'].isin([22, 23, 0, 1, 2, 3, 4, 5]).astype(int)\n",
        "\n",
        "    # Time since signup\n",
        "    df['time_since_signup'] = (df['purchase_time'] - df['signup_time']).dt.total_seconds() / 3600\n",
        "    df['is_new_user'] = (df['time_since_signup'] < 1).astype(int)\n",
        "\n",
        "    # Value features\n",
        "    df['is_high_value'] = (df['purchase_value'] > df['purchase_value'].quantile(0.95)).astype(int)\n",
        "\n",
        "    # User aggregations\n",
        "    user_stats = df.groupby('user_id').agg({\n",
        "        'purchase_value': ['count', 'sum', 'mean'],\n",
        "        'device_id': 'nunique'\n",
        "    }).reset_index()\n",
        "\n",
        "    user_stats.columns = ['user_id', 'user_transaction_count', 'user_total_value', 'user_avg_value', 'user_unique_devices']\n",
        "    df = df.merge(user_stats, on='user_id', how='left')\n",
        "\n",
        "    # Device aggregations\n",
        "    device_stats = df.groupby('device_id').agg({\n",
        "        'purchase_value': ['count', 'sum'],\n",
        "        'user_id': 'nunique'\n",
        "    }).reset_index()\n",
        "\n",
        "    device_stats.columns = ['device_id', 'device_transaction_count', 'device_total_value', 'device_unique_users']\n",
        "    df = df.merge(device_stats, on='device_id', how='left')\n",
        "\n",
        "    # Risk indicators\n",
        "    df['is_shared_device'] = (df['device_unique_users'] > 1).astype(int)\n",
        "    df['is_young_user'] = (df['age'] < 25).astype(int)\n",
        "    df['is_ad_source'] = (df['source'] == 'Ads').astype(int)\n",
        "\n",
        "    print(f\"✅ Created features. New shape: {df.shape}\")\n",
        "    return df\n",
        "\n",
        "fraud_df_features = create_features(fraud_df_clean)"
      ]
    },
    {
      "cell_type": "markdown",
      "metadata": {
        "id": "z0t6Uv8KTltm"
      },
      "source": [
        "## 6. Geolocation Analysis"
      ]
    },
    {
      "cell_type": "code",
      "execution_count": 20,
      "metadata": {
        "colab": {
          "base_uri": "https://localhost:8080/"
        },
        "id": "2P54y3QfYn3o",
        "outputId": "2a1b8617-9908-429c-e674-2221c313c498"
      },
      "outputs": [
        {
          "name": "stdout",
          "output_type": "stream",
          "text": [
            "🌍 MAPPING IP TO COUNTRIES...\n",
            "✅ Mapped 182 unique countries (FAST)\n",
            "\n",
            "🔴 TOP COUNTRIES BY FRAUD RATE:\n",
            "                   country  total_transactions  fraud_count  fraud_rate\n",
            "166           Turkmenistan                   1            1    1.000000\n",
            "115                Namibia                  23           10    0.434783\n",
            "154              Sri Lanka                  31           13    0.419355\n",
            "98              Luxembourg                  72           28    0.388889\n",
            "178  Virgin Islands (U.S.)                   3            1    0.333333\n"
          ]
        }
      ],
      "source": [
        "def map_ip_to_country_fast(fraud_df, ip_country_df):\n",
        "    \"\"\"Map IP addresses to countries using merge_asof for faster lookup.\"\"\"\n",
        "    print(\"🌍 MAPPING IP TO COUNTRIES...\")\n",
        "\n",
        "    # Ensure ip_country_df has IP columns as int and is sorted by the lower bound for merge_asof\n",
        "    ip_country_df['lower_bound_ip_address'] = ip_country_df['lower_bound_ip_address'].astype(int)\n",
        "    ip_country_df['upper_bound_ip_address'] = ip_country_df['upper_bound_ip_address'].astype(int)\n",
        "    ip_country_df_sorted = ip_country_df.sort_values('lower_bound_ip_address').reset_index(drop=True)\n",
        "\n",
        "\n",
        "    # Ensure fraud_df is sorted by the ip_address_int for merge_asof\n",
        "    fraud_df_sorted = fraud_df.sort_values('ip_address_int').reset_index(drop=True)\n",
        "\n",
        "    # Perform the merge_asof\n",
        "    # Merge fraud data with the IP country ranges based on ip_address_int and lower_bound_ip_address\n",
        "    # direction='backward' finds the last row in ip_country_df_sorted where lower_bound_ip_address <= ip_address_int\n",
        "    merged_df = pd.merge_asof(\n",
        "        fraud_df_sorted,\n",
        "        ip_country_df_sorted[['lower_bound_ip_address', 'upper_bound_ip_address', 'country']],\n",
        "        left_on='ip_address_int',\n",
        "        right_on='lower_bound_ip_address',\n",
        "        direction='backward'\n",
        "    )\n",
        "\n",
        "    # Filter to keep only valid matches where the IP address is within the upper bound of the matched range\n",
        "    # This is necessary because merge_asof with 'backward' only guarantees ip_address_int >= lower_bound_ip_address\n",
        "    valid_ip_mapping = merged_df[merged_df['ip_address_int'] <= merged_df['upper_bound_ip_address']].copy()\n",
        "\n",
        "    # Create the final country column\n",
        "    # Initialize country column with 'Unknown' in the original fraud_df order\n",
        "    fraud_df['country'] = 'Unknown'\n",
        "\n",
        "    # For the valid matches, update the country in the original fraud_df\n",
        "    # We need to merge the country back to the original fraud_df based on a common key, e.g., user_id\n",
        "    # First, ensure 'user_id' is in valid_ip_mapping and is unique\n",
        "    valid_ip_mapping = valid_ip_mapping[['user_id', 'country']].drop_duplicates(subset=['user_id'])\n",
        "\n",
        "    # Merge the valid countries back to the original fraud_df\n",
        "    fraud_df = pd.merge(\n",
        "        fraud_df,\n",
        "        valid_ip_mapping,\n",
        "        on='user_id',\n",
        "        how='left',\n",
        "        suffixes=('', '_mapped')\n",
        "    )\n",
        "\n",
        "    # Update the 'country' column with mapped countries where available\n",
        "    fraud_df['country'] = fraud_df['country_mapped'].fillna(fraud_df['country'])\n",
        "\n",
        "    # Drop the temporary merged country column\n",
        "    fraud_df = fraud_df.drop(columns=['country_mapped'])\n",
        "\n",
        "\n",
        "    print(f\"✅ Mapped {fraud_df['country'].nunique()} unique countries (FAST)\")\n",
        "    return fraud_df\n",
        "\n",
        "# Replace the original mapping call with the faster one\n",
        "fraud_df_geo = map_ip_to_country_fast(fraud_df_features, ip_country_df.copy()) # Pass a copy to avoid modifying the original ip_country_df\n",
        "\n",
        "# Country fraud analysis (keep this as is)\n",
        "country_fraud = fraud_df_geo.groupby('country')['class'].agg(['count', 'sum', 'mean']).reset_index()\n",
        "country_fraud.columns = ['country', 'total_transactions', 'fraud_count', 'fraud_rate']\n",
        "country_fraud = country_fraud.sort_values('fraud_rate', ascending=False)\n",
        "\n",
        "print(\"\\n🔴 TOP COUNTRIES BY FRAUD RATE:\")\n",
        "print(country_fraud.head())"
      ]
    },
    {
      "cell_type": "code",
      "execution_count": 22,
      "metadata": {
        "colab": {
          "base_uri": "https://localhost:8080/",
          "height": 542
        },
        "id": "a88hnvv6a6Ba",
        "outputId": "ecf8c0b1-2ce4-40af-e03e-89357c76536d"
      },
      "outputs": [
        {
          "data": {
            "text/html": [
              "<html>\n",
              "<head><meta charset=\"utf-8\" /></head>\n",
              "<body>\n",
              "    <div>            <script src=\"https://cdnjs.cloudflare.com/ajax/libs/mathjax/2.7.5/MathJax.js?config=TeX-AMS-MML_SVG\"></script><script type=\"text/javascript\">if (window.MathJax && window.MathJax.Hub && window.MathJax.Hub.Config) {window.MathJax.Hub.Config({SVG: {font: \"STIX-Web\"}});}</script>                <script type=\"text/javascript\">window.PlotlyConfig = {MathJaxConfig: 'local'};</script>\n",
              "        <script charset=\"utf-8\" src=\"https://cdn.plot.ly/plotly-2.35.2.min.js\"></script>                <div id=\"1f423883-d8ba-43d1-b66a-62bbae5e2f0a\" class=\"plotly-graph-div\" style=\"height:525px; width:100%;\"></div>            <script type=\"text/javascript\">                                    window.PLOTLYENV=window.PLOTLYENV || {};                                    if (document.getElementById(\"1f423883-d8ba-43d1-b66a-62bbae5e2f0a\")) {                    Plotly.newPlot(                        \"1f423883-d8ba-43d1-b66a-62bbae5e2f0a\",                        [{\"coloraxis\":\"coloraxis\",\"customdata\":[[1.0,1.0,1.0],[23.0,10.0,0.43478260869565216],[31.0,13.0,0.41935483870967744],[72.0,28.0,0.3888888888888889],[3.0,1.0,0.3333333333333333],[106.0,28.0,0.2641509433962264],[118.0,31.0,0.2627118644067797],[119.0,31.0,0.2605042016806723],[53.0,13.0,0.24528301886792453],[90.0,21.0,0.23333333333333334],[240.0,55.0,0.22916666666666666],[278.0,62.0,0.22302158273381295],[10.0,2.0,0.2],[95.0,18.0,0.18947368421052632],[264.0,50.0,0.1893939393939394],[22.0,4.0,0.18181818181818182],[6.0,1.0,0.16666666666666666],[6.0,1.0,0.16666666666666666],[490.0,78.0,0.15918367346938775],[417.0,64.0,0.15347721822541965],[231.0,33.0,0.14285714285714285],[7.0,1.0,0.14285714285714285],[7.0,1.0,0.14285714285714285],[114.0,16.0,0.14035087719298245],[409.0,56.0,0.13691931540342298],[359.0,48.0,0.13370473537604458],[90.0,12.0,0.13333333333333333],[15.0,2.0,0.13333333333333333],[251.0,33.0,0.13147410358565736],[609.0,79.0,0.1297208538587849],[471.0,61.0,0.12951167728237792],[1121.0,144.0,0.12845673505798394],[95.0,12.0,0.12631578947368421],[1090.0,131.0,0.12018348623853212],[2975.0,348.0,0.11697478991596638],[429.0,50.0,0.11655011655011654],[1310.0,151.0,0.11526717557251909],[9.0,1.0,0.1111111111111111],[9.0,1.0,0.1111111111111111],[389.0,42.0,0.10796915167095116],[28.0,3.0,0.10714285714285714],[122.0,13.0,0.10655737704918032],[4490.0,477.0,0.10623608017817372],[19.0,2.0,0.10526315789473684],[661.0,66.0,0.09984871406959153],[7306.0,715.0,0.09786476868327403],[349.0,34.0,0.09742120343839542],[460.0,44.0,0.09565217391304348],[58049.0,5551.0,0.09562610897689883],[3161.0,300.0,0.09490667510281557],[64.0,6.0,0.09375],[4162.0,380.0,0.0913022585295531],[2961.0,270.0,0.0911854103343465],[22.0,2.0,0.09090909090909091],[211.0,19.0,0.09004739336492891],[1844.0,165.0,0.08947939262472886],[79.0,7.0,0.08860759493670886],[838.0,74.0,0.0883054892601432],[785.0,69.0,0.08789808917197452],[649.0,57.0,0.08782742681047766],[23.0,2.0,0.08695652173913043],[12038.0,1043.0,0.08664229938527995],[21966.0,1883.0,0.08572339069471001],[35.0,3.0,0.08571428571428572],[1944.0,166.0,0.08539094650205761],[1616.0,134.0,0.08292079207920793],[37.0,3.0,0.08108108108108109],[1237.0,99.0,0.08003233629749394],[25.0,2.0,0.08],[25.0,2.0,0.08],[435.0,33.0,0.07586206896551724],[93.0,7.0,0.07526881720430108],[568.0,42.0,0.07394366197183098],[1680.0,123.0,0.07321428571428572],[3646.0,262.0,0.0718595721338453],[14.0,1.0,0.07142857142857142],[1027.0,73.0,0.07108081791626096],[208.0,14.0,0.0673076923076923],[550.0,37.0,0.06727272727272728],[291.0,19.0,0.06529209621993128],[92.0,6.0,0.06521739130434782],[16.0,1.0,0.0625],[32.0,2.0,0.0625],[80.0,5.0,0.0625],[602.0,36.0,0.059800664451827246],[238.0,14.0,0.058823529411764705],[17.0,1.0,0.058823529411764705],[177.0,10.0,0.05649717514124294],[37.0,2.0,0.05405405405405406],[729.0,39.0,0.053497942386831275],[210.0,11.0,0.05238095238095238],[525.0,27.0,0.05142857142857143],[20.0,1.0,0.05],[62.0,3.0,0.04838709677419355],[43.0,2.0,0.046511627906976744],[86.0,4.0,0.046511627906976744],[67.0,3.0,0.04477611940298507],[272.0,12.0,0.04411764705882353],[229.0,10.0,0.043668122270742356],[186.0,8.0,0.043010752688172046],[24.0,1.0,0.041666666666666664],[24.0,1.0,0.041666666666666664],[51.0,2.0,0.0392156862745098],[30.0,1.0,0.03333333333333333],[158.0,5.0,0.03164556962025317],[72.0,2.0,0.027777777777777776],[42.0,1.0,0.023809523809523808],[87.0,2.0,0.022988505747126436],[69.0,1.0,0.014492753623188406],[166.0,2.0,0.012048192771084338],[2.0,0.0,0.0],[14.0,0.0,0.0],[4.0,0.0,0.0],[7.0,0.0,0.0],[2.0,0.0,0.0],[2.0,0.0,0.0],[3.0,0.0,0.0],[13.0,0.0,0.0],[3.0,0.0,0.0],[1.0,0.0,0.0],[9.0,0.0,0.0],[3.0,0.0,0.0],[3.0,0.0,0.0],[3.0,0.0,0.0],[15.0,0.0,0.0],[3.0,0.0,0.0],[1.0,0.0,0.0],[2.0,0.0,0.0],[7.0,0.0,0.0],[1.0,0.0,0.0],[1.0,0.0,0.0],[5.0,0.0,0.0],[4.0,0.0,0.0],[1.0,0.0,0.0],[9.0,0.0,0.0],[1.0,0.0,0.0],[3.0,0.0,0.0],[7.0,0.0,0.0],[1.0,0.0,0.0],[4.0,0.0,0.0],[2.0,0.0,0.0],[9.0,0.0,0.0],[4.0,0.0,0.0],[11.0,0.0,0.0],[2.0,0.0,0.0],[4.0,0.0,0.0],[10.0,0.0,0.0],[20.0,0.0,0.0],[7.0,0.0,0.0],[28.0,0.0,0.0],[18.0,0.0,0.0],[1.0,0.0,0.0],[1.0,0.0,0.0],[16.0,0.0,0.0],[6.0,0.0,0.0],[3.0,0.0,0.0],[2.0,0.0,0.0],[1.0,0.0,0.0],[2.0,0.0,0.0],[2.0,0.0,0.0],[18.0,0.0,0.0],[5.0,0.0,0.0],[41.0,0.0,0.0],[1.0,0.0,0.0],[4.0,0.0,0.0],[16.0,0.0,0.0],[1.0,0.0,0.0],[1.0,0.0,0.0],[15.0,0.0,0.0],[30.0,0.0,0.0],[3.0,0.0,0.0],[25.0,0.0,0.0],[2.0,0.0,0.0],[1.0,0.0,0.0],[1.0,0.0,0.0],[24.0,0.0,0.0],[15.0,0.0,0.0],[13.0,0.0,0.0],[1.0,0.0,0.0],[1.0,0.0,0.0],[10.0,0.0,0.0],[6.0,0.0,0.0]],\"geo\":\"geo\",\"hovertemplate\":\"\\u003cb\\u003e%{hovertext}\\u003c\\u002fb\\u003e\\u003cbr\\u003e\\u003cbr\\u003ecountry=%{location}\\u003cbr\\u003etotal_transactions=%{customdata[0]}\\u003cbr\\u003efraud_count=%{customdata[1]}\\u003cbr\\u003efraud_rate=%{z}\\u003cextra\\u003e\\u003c\\u002fextra\\u003e\",\"hovertext\":[\"Turkmenistan\",\"Namibia\",\"Sri Lanka\",\"Luxembourg\",\"Virgin Islands (U.S.)\",\"Ecuador\",\"Tunisia\",\"Peru\",\"Bolivia\",\"Kuwait\",\"Ireland\",\"New Zealand\",\"Uzbekistan\",\"Lithuania\",\"Saudi Arabia\",\"Malta\",\"Cote D'ivoire\",\"Afghanistan\",\"Denmark\",\"Chile\",\"Greece\",\"Montenegro\",\"Malawi\",\"United Arab Emirates\",\"Belgium\",\"Egypt\",\"Costa Rica\",\"Armenia\",\"Venezuela\",\"Norway\",\"Hong Kong\",\"Mexico\",\"Seychelles\",\"Sweden\",\"Canada\",\"Ukraine\",\"India\",\"Honduras\",\"Senegal\",\"Iran (ISLAMIC Republic Of)\",\"Lebanon\",\"Algeria\",\"United Kingdom\",\"Iceland\",\"Argentina\",\"Japan\",\"Czech Republic\",\"Finland\",\"United States\",\"France\",\"Latvia\",\"Korea Republic of\",\"Brazil\",\"Trinidad and Tobago\",\"Hungary\",\"Australia\",\"Croatia (LOCAL Name: Hrvatska)\",\"South Africa\",\"Switzerland\",\"Indonesia\",\"Azerbaijan\",\"China\",\"Unknown\",\"Paraguay\",\"Italy\",\"Russian Federation\",\"Bangladesh\",\"Taiwan; Republic of China (ROC)\",\"Sudan\",\"El Salvador\",\"Austria\",\"Kenya\",\"Turkey\",\"Netherlands\",\"Germany\",\"Libyan Arab Jamahiriya\",\"Spain\",\"Singapore\",\"Viet Nam\",\"Thailand\",\"Kazakhstan\",\"Nicaragua\",\"Georgia\",\"Uruguay\",\"Colombia\",\"European Union\",\"Mauritius\",\"Philippines\",\"Moldova Republic of\",\"Poland\",\"Malaysia\",\"Romania\",\"Guatemala\",\"Panama\",\"Cyprus\",\"Slovakia (SLOVAK Republic)\",\"Nigeria\",\"Israel\",\"Portugal\",\"Pakistan\",\"Macedonia\",\"Angola\",\"Dominican Republic\",\"Bosnia and Herzegowina\",\"Morocco\",\"Belarus\",\"Estonia\",\"Slovenia\",\"Serbia\",\"Bulgaria\",\"Bhutan\",\"Bahrain\",\"Bahamas\",\"Belize\",\"Benin\",\"Bermuda\",\"Antigua and Barbuda\",\"Albania\",\"Djibouti\",\"Dominica\",\"Cuba\",\"Curacao\",\"Congo\",\"Congo The Democratic Republic of The\",\"Cambodia\",\"Botswana\",\"Burundi\",\"Burkina Faso\",\"Brunei Darussalam\",\"British Indian Ocean Territory\",\"Cape Verde\",\"Cameroon\",\"Cayman Islands\",\"Bonaire; Sint Eustatius; Saba\",\"Barbados\",\"Guadeloupe\",\"Faroe Islands\",\"Guam\",\"Gambia\",\"Ethiopia\",\"Fiji\",\"Gabon\",\"Haiti\",\"Ghana\",\"Gibraltar\",\"Lao People's Democratic Republic\",\"Macau\",\"Iraq\",\"Jamaica\",\"Jordan\",\"Nepal\",\"Nauru\",\"Myanmar\",\"Mozambique\",\"Mongolia\",\"Monaco\",\"Maldives\",\"Madagascar\",\"Liechtenstein\",\"Lesotho\",\"Kyrgyzstan\",\"New Caledonia\",\"Oman\",\"Niger\",\"Papua New Guinea\",\"Palestinian Territory Occupied\",\"San Marino\",\"Saint Martin\",\"Rwanda\",\"Puerto Rico\",\"Reunion\",\"Qatar\",\"Saint Kitts and Nevis\",\"South Sudan\",\"Tajikistan\",\"Syrian Arab Republic\",\"Tanzania United Republic of\",\"Uganda\",\"Vanuatu\",\"Yemen\",\"Zambia\",\"Zimbabwe\"],\"locationmode\":\"country names\",\"locations\":[\"Turkmenistan\",\"Namibia\",\"Sri Lanka\",\"Luxembourg\",\"Virgin Islands (U.S.)\",\"Ecuador\",\"Tunisia\",\"Peru\",\"Bolivia\",\"Kuwait\",\"Ireland\",\"New Zealand\",\"Uzbekistan\",\"Lithuania\",\"Saudi Arabia\",\"Malta\",\"Cote D'ivoire\",\"Afghanistan\",\"Denmark\",\"Chile\",\"Greece\",\"Montenegro\",\"Malawi\",\"United Arab Emirates\",\"Belgium\",\"Egypt\",\"Costa Rica\",\"Armenia\",\"Venezuela\",\"Norway\",\"Hong Kong\",\"Mexico\",\"Seychelles\",\"Sweden\",\"Canada\",\"Ukraine\",\"India\",\"Honduras\",\"Senegal\",\"Iran (ISLAMIC Republic Of)\",\"Lebanon\",\"Algeria\",\"United Kingdom\",\"Iceland\",\"Argentina\",\"Japan\",\"Czech Republic\",\"Finland\",\"United States\",\"France\",\"Latvia\",\"Korea Republic of\",\"Brazil\",\"Trinidad and Tobago\",\"Hungary\",\"Australia\",\"Croatia (LOCAL Name: Hrvatska)\",\"South Africa\",\"Switzerland\",\"Indonesia\",\"Azerbaijan\",\"China\",\"Unknown\",\"Paraguay\",\"Italy\",\"Russian Federation\",\"Bangladesh\",\"Taiwan; Republic of China (ROC)\",\"Sudan\",\"El Salvador\",\"Austria\",\"Kenya\",\"Turkey\",\"Netherlands\",\"Germany\",\"Libyan Arab Jamahiriya\",\"Spain\",\"Singapore\",\"Viet Nam\",\"Thailand\",\"Kazakhstan\",\"Nicaragua\",\"Georgia\",\"Uruguay\",\"Colombia\",\"European Union\",\"Mauritius\",\"Philippines\",\"Moldova Republic of\",\"Poland\",\"Malaysia\",\"Romania\",\"Guatemala\",\"Panama\",\"Cyprus\",\"Slovakia (SLOVAK Republic)\",\"Nigeria\",\"Israel\",\"Portugal\",\"Pakistan\",\"Macedonia\",\"Angola\",\"Dominican Republic\",\"Bosnia and Herzegowina\",\"Morocco\",\"Belarus\",\"Estonia\",\"Slovenia\",\"Serbia\",\"Bulgaria\",\"Bhutan\",\"Bahrain\",\"Bahamas\",\"Belize\",\"Benin\",\"Bermuda\",\"Antigua and Barbuda\",\"Albania\",\"Djibouti\",\"Dominica\",\"Cuba\",\"Curacao\",\"Congo\",\"Congo The Democratic Republic of The\",\"Cambodia\",\"Botswana\",\"Burundi\",\"Burkina Faso\",\"Brunei Darussalam\",\"British Indian Ocean Territory\",\"Cape Verde\",\"Cameroon\",\"Cayman Islands\",\"Bonaire; Sint Eustatius; Saba\",\"Barbados\",\"Guadeloupe\",\"Faroe Islands\",\"Guam\",\"Gambia\",\"Ethiopia\",\"Fiji\",\"Gabon\",\"Haiti\",\"Ghana\",\"Gibraltar\",\"Lao People's Democratic Republic\",\"Macau\",\"Iraq\",\"Jamaica\",\"Jordan\",\"Nepal\",\"Nauru\",\"Myanmar\",\"Mozambique\",\"Mongolia\",\"Monaco\",\"Maldives\",\"Madagascar\",\"Liechtenstein\",\"Lesotho\",\"Kyrgyzstan\",\"New Caledonia\",\"Oman\",\"Niger\",\"Papua New Guinea\",\"Palestinian Territory Occupied\",\"San Marino\",\"Saint Martin\",\"Rwanda\",\"Puerto Rico\",\"Reunion\",\"Qatar\",\"Saint Kitts and Nevis\",\"South Sudan\",\"Tajikistan\",\"Syrian Arab Republic\",\"Tanzania United Republic of\",\"Uganda\",\"Vanuatu\",\"Yemen\",\"Zambia\",\"Zimbabwe\"],\"name\":\"\",\"z\":[1.0,0.43478260869565216,0.41935483870967744,0.3888888888888889,0.3333333333333333,0.2641509433962264,0.2627118644067797,0.2605042016806723,0.24528301886792453,0.23333333333333334,0.22916666666666666,0.22302158273381295,0.2,0.18947368421052632,0.1893939393939394,0.18181818181818182,0.16666666666666666,0.16666666666666666,0.15918367346938775,0.15347721822541965,0.14285714285714285,0.14285714285714285,0.14285714285714285,0.14035087719298245,0.13691931540342298,0.13370473537604458,0.13333333333333333,0.13333333333333333,0.13147410358565736,0.1297208538587849,0.12951167728237792,0.12845673505798394,0.12631578947368421,0.12018348623853212,0.11697478991596638,0.11655011655011654,0.11526717557251909,0.1111111111111111,0.1111111111111111,0.10796915167095116,0.10714285714285714,0.10655737704918032,0.10623608017817372,0.10526315789473684,0.09984871406959153,0.09786476868327403,0.09742120343839542,0.09565217391304348,0.09562610897689883,0.09490667510281557,0.09375,0.0913022585295531,0.0911854103343465,0.09090909090909091,0.09004739336492891,0.08947939262472886,0.08860759493670886,0.0883054892601432,0.08789808917197452,0.08782742681047766,0.08695652173913043,0.08664229938527995,0.08572339069471001,0.08571428571428572,0.08539094650205761,0.08292079207920793,0.08108108108108109,0.08003233629749394,0.08,0.08,0.07586206896551724,0.07526881720430108,0.07394366197183098,0.07321428571428572,0.0718595721338453,0.07142857142857142,0.07108081791626096,0.0673076923076923,0.06727272727272728,0.06529209621993128,0.06521739130434782,0.0625,0.0625,0.0625,0.059800664451827246,0.058823529411764705,0.058823529411764705,0.05649717514124294,0.05405405405405406,0.053497942386831275,0.05238095238095238,0.05142857142857143,0.05,0.04838709677419355,0.046511627906976744,0.046511627906976744,0.04477611940298507,0.04411764705882353,0.043668122270742356,0.043010752688172046,0.041666666666666664,0.041666666666666664,0.0392156862745098,0.03333333333333333,0.03164556962025317,0.027777777777777776,0.023809523809523808,0.022988505747126436,0.014492753623188406,0.012048192771084338,0.0,0.0,0.0,0.0,0.0,0.0,0.0,0.0,0.0,0.0,0.0,0.0,0.0,0.0,0.0,0.0,0.0,0.0,0.0,0.0,0.0,0.0,0.0,0.0,0.0,0.0,0.0,0.0,0.0,0.0,0.0,0.0,0.0,0.0,0.0,0.0,0.0,0.0,0.0,0.0,0.0,0.0,0.0,0.0,0.0,0.0,0.0,0.0,0.0,0.0,0.0,0.0,0.0,0.0,0.0,0.0,0.0,0.0,0.0,0.0,0.0,0.0,0.0,0.0,0.0,0.0,0.0,0.0,0.0,0.0,0.0,0.0],\"type\":\"choropleth\"}],                        {\"template\":{\"data\":{\"histogram2dcontour\":[{\"type\":\"histogram2dcontour\",\"colorbar\":{\"outlinewidth\":0,\"ticks\":\"\"},\"colorscale\":[[0.0,\"#0d0887\"],[0.1111111111111111,\"#46039f\"],[0.2222222222222222,\"#7201a8\"],[0.3333333333333333,\"#9c179e\"],[0.4444444444444444,\"#bd3786\"],[0.5555555555555556,\"#d8576b\"],[0.6666666666666666,\"#ed7953\"],[0.7777777777777778,\"#fb9f3a\"],[0.8888888888888888,\"#fdca26\"],[1.0,\"#f0f921\"]]}],\"choropleth\":[{\"type\":\"choropleth\",\"colorbar\":{\"outlinewidth\":0,\"ticks\":\"\"}}],\"histogram2d\":[{\"type\":\"histogram2d\",\"colorbar\":{\"outlinewidth\":0,\"ticks\":\"\"},\"colorscale\":[[0.0,\"#0d0887\"],[0.1111111111111111,\"#46039f\"],[0.2222222222222222,\"#7201a8\"],[0.3333333333333333,\"#9c179e\"],[0.4444444444444444,\"#bd3786\"],[0.5555555555555556,\"#d8576b\"],[0.6666666666666666,\"#ed7953\"],[0.7777777777777778,\"#fb9f3a\"],[0.8888888888888888,\"#fdca26\"],[1.0,\"#f0f921\"]]}],\"heatmap\":[{\"type\":\"heatmap\",\"colorbar\":{\"outlinewidth\":0,\"ticks\":\"\"},\"colorscale\":[[0.0,\"#0d0887\"],[0.1111111111111111,\"#46039f\"],[0.2222222222222222,\"#7201a8\"],[0.3333333333333333,\"#9c179e\"],[0.4444444444444444,\"#bd3786\"],[0.5555555555555556,\"#d8576b\"],[0.6666666666666666,\"#ed7953\"],[0.7777777777777778,\"#fb9f3a\"],[0.8888888888888888,\"#fdca26\"],[1.0,\"#f0f921\"]]}],\"heatmapgl\":[{\"type\":\"heatmapgl\",\"colorbar\":{\"outlinewidth\":0,\"ticks\":\"\"},\"colorscale\":[[0.0,\"#0d0887\"],[0.1111111111111111,\"#46039f\"],[0.2222222222222222,\"#7201a8\"],[0.3333333333333333,\"#9c179e\"],[0.4444444444444444,\"#bd3786\"],[0.5555555555555556,\"#d8576b\"],[0.6666666666666666,\"#ed7953\"],[0.7777777777777778,\"#fb9f3a\"],[0.8888888888888888,\"#fdca26\"],[1.0,\"#f0f921\"]]}],\"contourcarpet\":[{\"type\":\"contourcarpet\",\"colorbar\":{\"outlinewidth\":0,\"ticks\":\"\"}}],\"contour\":[{\"type\":\"contour\",\"colorbar\":{\"outlinewidth\":0,\"ticks\":\"\"},\"colorscale\":[[0.0,\"#0d0887\"],[0.1111111111111111,\"#46039f\"],[0.2222222222222222,\"#7201a8\"],[0.3333333333333333,\"#9c179e\"],[0.4444444444444444,\"#bd3786\"],[0.5555555555555556,\"#d8576b\"],[0.6666666666666666,\"#ed7953\"],[0.7777777777777778,\"#fb9f3a\"],[0.8888888888888888,\"#fdca26\"],[1.0,\"#f0f921\"]]}],\"surface\":[{\"type\":\"surface\",\"colorbar\":{\"outlinewidth\":0,\"ticks\":\"\"},\"colorscale\":[[0.0,\"#0d0887\"],[0.1111111111111111,\"#46039f\"],[0.2222222222222222,\"#7201a8\"],[0.3333333333333333,\"#9c179e\"],[0.4444444444444444,\"#bd3786\"],[0.5555555555555556,\"#d8576b\"],[0.6666666666666666,\"#ed7953\"],[0.7777777777777778,\"#fb9f3a\"],[0.8888888888888888,\"#fdca26\"],[1.0,\"#f0f921\"]]}],\"mesh3d\":[{\"type\":\"mesh3d\",\"colorbar\":{\"outlinewidth\":0,\"ticks\":\"\"}}],\"scatter\":[{\"fillpattern\":{\"fillmode\":\"overlay\",\"size\":10,\"solidity\":0.2},\"type\":\"scatter\"}],\"parcoords\":[{\"type\":\"parcoords\",\"line\":{\"colorbar\":{\"outlinewidth\":0,\"ticks\":\"\"}}}],\"scatterpolargl\":[{\"type\":\"scatterpolargl\",\"marker\":{\"colorbar\":{\"outlinewidth\":0,\"ticks\":\"\"}}}],\"bar\":[{\"error_x\":{\"color\":\"#2a3f5f\"},\"error_y\":{\"color\":\"#2a3f5f\"},\"marker\":{\"line\":{\"color\":\"#E5ECF6\",\"width\":0.5},\"pattern\":{\"fillmode\":\"overlay\",\"size\":10,\"solidity\":0.2}},\"type\":\"bar\"}],\"scattergeo\":[{\"type\":\"scattergeo\",\"marker\":{\"colorbar\":{\"outlinewidth\":0,\"ticks\":\"\"}}}],\"scatterpolar\":[{\"type\":\"scatterpolar\",\"marker\":{\"colorbar\":{\"outlinewidth\":0,\"ticks\":\"\"}}}],\"histogram\":[{\"marker\":{\"pattern\":{\"fillmode\":\"overlay\",\"size\":10,\"solidity\":0.2}},\"type\":\"histogram\"}],\"scattergl\":[{\"type\":\"scattergl\",\"marker\":{\"colorbar\":{\"outlinewidth\":0,\"ticks\":\"\"}}}],\"scatter3d\":[{\"type\":\"scatter3d\",\"line\":{\"colorbar\":{\"outlinewidth\":0,\"ticks\":\"\"}},\"marker\":{\"colorbar\":{\"outlinewidth\":0,\"ticks\":\"\"}}}],\"scattermapbox\":[{\"type\":\"scattermapbox\",\"marker\":{\"colorbar\":{\"outlinewidth\":0,\"ticks\":\"\"}}}],\"scatterternary\":[{\"type\":\"scatterternary\",\"marker\":{\"colorbar\":{\"outlinewidth\":0,\"ticks\":\"\"}}}],\"scattercarpet\":[{\"type\":\"scattercarpet\",\"marker\":{\"colorbar\":{\"outlinewidth\":0,\"ticks\":\"\"}}}],\"carpet\":[{\"aaxis\":{\"endlinecolor\":\"#2a3f5f\",\"gridcolor\":\"white\",\"linecolor\":\"white\",\"minorgridcolor\":\"white\",\"startlinecolor\":\"#2a3f5f\"},\"baxis\":{\"endlinecolor\":\"#2a3f5f\",\"gridcolor\":\"white\",\"linecolor\":\"white\",\"minorgridcolor\":\"white\",\"startlinecolor\":\"#2a3f5f\"},\"type\":\"carpet\"}],\"table\":[{\"cells\":{\"fill\":{\"color\":\"#EBF0F8\"},\"line\":{\"color\":\"white\"}},\"header\":{\"fill\":{\"color\":\"#C8D4E3\"},\"line\":{\"color\":\"white\"}},\"type\":\"table\"}],\"barpolar\":[{\"marker\":{\"line\":{\"color\":\"#E5ECF6\",\"width\":0.5},\"pattern\":{\"fillmode\":\"overlay\",\"size\":10,\"solidity\":0.2}},\"type\":\"barpolar\"}],\"pie\":[{\"automargin\":true,\"type\":\"pie\"}]},\"layout\":{\"autotypenumbers\":\"strict\",\"colorway\":[\"#636efa\",\"#EF553B\",\"#00cc96\",\"#ab63fa\",\"#FFA15A\",\"#19d3f3\",\"#FF6692\",\"#B6E880\",\"#FF97FF\",\"#FECB52\"],\"font\":{\"color\":\"#2a3f5f\"},\"hovermode\":\"closest\",\"hoverlabel\":{\"align\":\"left\"},\"paper_bgcolor\":\"white\",\"plot_bgcolor\":\"#E5ECF6\",\"polar\":{\"bgcolor\":\"#E5ECF6\",\"angularaxis\":{\"gridcolor\":\"white\",\"linecolor\":\"white\",\"ticks\":\"\"},\"radialaxis\":{\"gridcolor\":\"white\",\"linecolor\":\"white\",\"ticks\":\"\"}},\"ternary\":{\"bgcolor\":\"#E5ECF6\",\"aaxis\":{\"gridcolor\":\"white\",\"linecolor\":\"white\",\"ticks\":\"\"},\"baxis\":{\"gridcolor\":\"white\",\"linecolor\":\"white\",\"ticks\":\"\"},\"caxis\":{\"gridcolor\":\"white\",\"linecolor\":\"white\",\"ticks\":\"\"}},\"coloraxis\":{\"colorbar\":{\"outlinewidth\":0,\"ticks\":\"\"}},\"colorscale\":{\"sequential\":[[0.0,\"#0d0887\"],[0.1111111111111111,\"#46039f\"],[0.2222222222222222,\"#7201a8\"],[0.3333333333333333,\"#9c179e\"],[0.4444444444444444,\"#bd3786\"],[0.5555555555555556,\"#d8576b\"],[0.6666666666666666,\"#ed7953\"],[0.7777777777777778,\"#fb9f3a\"],[0.8888888888888888,\"#fdca26\"],[1.0,\"#f0f921\"]],\"sequentialminus\":[[0.0,\"#0d0887\"],[0.1111111111111111,\"#46039f\"],[0.2222222222222222,\"#7201a8\"],[0.3333333333333333,\"#9c179e\"],[0.4444444444444444,\"#bd3786\"],[0.5555555555555556,\"#d8576b\"],[0.6666666666666666,\"#ed7953\"],[0.7777777777777778,\"#fb9f3a\"],[0.8888888888888888,\"#fdca26\"],[1.0,\"#f0f921\"]],\"diverging\":[[0,\"#8e0152\"],[0.1,\"#c51b7d\"],[0.2,\"#de77ae\"],[0.3,\"#f1b6da\"],[0.4,\"#fde0ef\"],[0.5,\"#f7f7f7\"],[0.6,\"#e6f5d0\"],[0.7,\"#b8e186\"],[0.8,\"#7fbc41\"],[0.9,\"#4d9221\"],[1,\"#276419\"]]},\"xaxis\":{\"gridcolor\":\"white\",\"linecolor\":\"white\",\"ticks\":\"\",\"title\":{\"standoff\":15},\"zerolinecolor\":\"white\",\"automargin\":true,\"zerolinewidth\":2},\"yaxis\":{\"gridcolor\":\"white\",\"linecolor\":\"white\",\"ticks\":\"\",\"title\":{\"standoff\":15},\"zerolinecolor\":\"white\",\"automargin\":true,\"zerolinewidth\":2},\"scene\":{\"xaxis\":{\"backgroundcolor\":\"#E5ECF6\",\"gridcolor\":\"white\",\"linecolor\":\"white\",\"showbackground\":true,\"ticks\":\"\",\"zerolinecolor\":\"white\",\"gridwidth\":2},\"yaxis\":{\"backgroundcolor\":\"#E5ECF6\",\"gridcolor\":\"white\",\"linecolor\":\"white\",\"showbackground\":true,\"ticks\":\"\",\"zerolinecolor\":\"white\",\"gridwidth\":2},\"zaxis\":{\"backgroundcolor\":\"#E5ECF6\",\"gridcolor\":\"white\",\"linecolor\":\"white\",\"showbackground\":true,\"ticks\":\"\",\"zerolinecolor\":\"white\",\"gridwidth\":2}},\"shapedefaults\":{\"line\":{\"color\":\"#2a3f5f\"}},\"annotationdefaults\":{\"arrowcolor\":\"#2a3f5f\",\"arrowhead\":0,\"arrowwidth\":1},\"geo\":{\"bgcolor\":\"white\",\"landcolor\":\"#E5ECF6\",\"subunitcolor\":\"white\",\"showland\":true,\"showlakes\":true,\"lakecolor\":\"white\"},\"title\":{\"x\":0.05},\"mapbox\":{\"style\":\"light\"}}},\"geo\":{\"domain\":{\"x\":[0.0,1.0],\"y\":[0.0,1.0]},\"center\":{}},\"coloraxis\":{\"colorbar\":{\"title\":{\"text\":\"fraud_rate\"}},\"colorscale\":[[0.0,\"#0d0887\"],[0.1111111111111111,\"#46039f\"],[0.2222222222222222,\"#7201a8\"],[0.3333333333333333,\"#9c179e\"],[0.4444444444444444,\"#bd3786\"],[0.5555555555555556,\"#d8576b\"],[0.6666666666666666,\"#ed7953\"],[0.7777777777777778,\"#fb9f3a\"],[0.8888888888888888,\"#fdca26\"],[1.0,\"#f0f921\"]]},\"legend\":{\"tracegroupgap\":0},\"title\":{\"text\":\"World Map of Fraud Rate by Country\"},\"margin\":{\"r\":0,\"l\":0,\"t\":40,\"b\":0}},                        {\"responsive\": true}                    ).then(function(){\n",
              "                            \n",
              "var gd = document.getElementById('1f423883-d8ba-43d1-b66a-62bbae5e2f0a');\n",
              "var x = new MutationObserver(function (mutations, observer) {{\n",
              "        var display = window.getComputedStyle(gd).display;\n",
              "        if (!display || display === 'none') {{\n",
              "            console.log([gd, 'removed!']);\n",
              "            Plotly.purge(gd);\n",
              "            observer.disconnect();\n",
              "        }}\n",
              "}});\n",
              "\n",
              "// Listen for the removal of the full notebook cells\n",
              "var notebookContainer = gd.closest('#notebook-container');\n",
              "if (notebookContainer) {{\n",
              "    x.observe(notebookContainer, {childList: true});\n",
              "}}\n",
              "\n",
              "// Listen for the clearing of the current output cell\n",
              "var outputEl = gd.closest('.output');\n",
              "if (outputEl) {{\n",
              "    x.observe(outputEl, {childList: true});\n",
              "}}\n",
              "\n",
              "                        })                };                            </script>        </div>\n",
              "</body>\n",
              "</html>"
            ]
          },
          "metadata": {},
          "output_type": "display_data"
        }
      ],
      "source": [
        "# Create a world map visualization of fraud rates by country\n",
        "fig = px.choropleth(country_fraud,\n",
        "                    locations=\"country\",\n",
        "                    locationmode='country names',\n",
        "                    color=\"fraud_rate\",\n",
        "                    hover_name=\"country\",\n",
        "                    hover_data=['total_transactions', 'fraud_count', 'fraud_rate'],\n",
        "                    color_continuous_scale=px.colors.sequential.Plasma,\n",
        "                    title='World Map of Fraud Rate by Country')\n",
        "fig.update_layout(margin={\"r\":0,\"l\":0,\"t\":40,\"b\":0})\n",
        "fig.show()"
      ]
    },
    {
      "cell_type": "markdown",
      "metadata": {
        "id": "m4Dt7BgwTltp"
      },
      "source": [
        "## 7. Class Imbalance Analysis"
      ]
    },
    {
      "cell_type": "code",
      "execution_count": 23,
      "metadata": {
        "colab": {
          "base_uri": "https://localhost:8080/"
        },
        "id": "6tYOsjQ0Tltq",
        "outputId": "c06ead4f-3f33-4e58-fefa-01653315e4f6"
      },
      "outputs": [
        {
          "name": "stdout",
          "output_type": "stream",
          "text": [
            "⚖️ CLASS IMBALANCE ANALYSIS\n",
            "==============================\n",
            "Non-Fraud: 136,961 (90.64%)\n",
            "Fraud: 14,151 (9.36%)\n",
            "Imbalance Ratio: 9.7:1\n",
            "\n",
            "💡 RECOMMENDED STRATEGY: Class weights or cost-sensitive learning\n"
          ]
        }
      ],
      "source": [
        "# Detailed imbalance analysis\n",
        "class_counts = fraud_df_geo['class'].value_counts()\n",
        "imbalance_ratio = class_counts[0] / class_counts[1]\n",
        "\n",
        "print(\"⚖️ CLASS IMBALANCE ANALYSIS\")\n",
        "print(\"=\" * 30)\n",
        "print(f\"Non-Fraud: {class_counts[0]:,} ({class_counts[0]/len(fraud_df_geo)*100:.2f}%)\")\n",
        "print(f\"Fraud: {class_counts[1]:,} ({class_counts[1]/len(fraud_df_geo)*100:.2f}%)\")\n",
        "print(f\"Imbalance Ratio: {imbalance_ratio:.1f}:1\")\n",
        "\n",
        "# Recommended strategy\n",
        "if imbalance_ratio > 20:\n",
        "    strategy = \"SMOTE with 30% target ratio + ensemble methods\"\n",
        "elif imbalance_ratio > 10:\n",
        "    strategy = \"SMOTE with 40% target ratio\"\n",
        "else:\n",
        "    strategy = \"Class weights or cost-sensitive learning\"\n",
        "\n",
        "print(f\"\\n💡 RECOMMENDED STRATEGY: {strategy}\")"
      ]
    },
    {
      "cell_type": "markdown",
      "metadata": {
        "id": "DyabSJDYTltr"
      },
      "source": [
        "## 8. Key Insights and Patterns"
      ]
    },
    {
      "cell_type": "code",
      "execution_count": 24,
      "metadata": {
        "colab": {
          "base_uri": "https://localhost:8080/"
        },
        "id": "dZzVqTSwTlts",
        "outputId": "4d13d17a-c0ea-45ae-e85f-8a49c4a87a39"
      },
      "outputs": [
        {
          "name": "stdout",
          "output_type": "stream",
          "text": [
            "🎯 TOP 10 FEATURES BY CORRELATION WITH FRAUD:\n",
            "==================================================\n",
            "is_new_user               ↗️  0.7141 (p=0.00e+00)\n",
            "device_transaction_count  ↗️  0.6708 (p=0.00e+00)\n",
            "device_unique_users       ↗️  0.6708 (p=0.00e+00)\n",
            "device_total_value        ↗️  0.5753 (p=0.00e+00)\n",
            "is_shared_device          ↗️  0.5665 (p=0.00e+00)\n",
            "time_since_signup         ↘️ -0.2579 (p=0.00e+00)\n",
            "day_of_week               ↗️  0.0189 (p=1.80e-13)\n",
            "is_weekend                ↗️  0.0141 (p=3.87e-08)\n",
            "is_night                  ↘️ -0.0094 (p=2.67e-04)\n",
            "age                       ↗️  0.0066 (p=1.00e-02)\n"
          ]
        }
      ],
      "source": [
        "# Feature correlation analysis\n",
        "numerical_features = fraud_df_geo.select_dtypes(include=[np.number]).columns.tolist()\n",
        "exclude_cols = ['user_id', 'device_id', 'ip_address_int', 'class']\n",
        "analysis_features = [col for col in numerical_features if col not in exclude_cols]\n",
        "\n",
        "correlations = []\n",
        "for feature in analysis_features:\n",
        "    if fraud_df_geo[feature].nunique() > 1:\n",
        "        corr, p_value = pearsonr(fraud_df_geo[feature], fraud_df_geo['class'])\n",
        "        correlations.append({\n",
        "            'feature': feature,\n",
        "            'correlation': corr,\n",
        "            'abs_correlation': abs(corr),\n",
        "            'p_value': p_value\n",
        "        })\n",
        "\n",
        "correlation_df = pd.DataFrame(correlations)\n",
        "correlation_df = correlation_df.sort_values('abs_correlation', ascending=False)\n",
        "\n",
        "print(\"🎯 TOP 10 FEATURES BY CORRELATION WITH FRAUD:\")\n",
        "print(\"=\" * 50)\n",
        "for _, row in correlation_df.head(10).iterrows():\n",
        "    direction = \"↗️\" if row['correlation'] > 0 else \"↘️\"\n",
        "    print(f\"{row['feature']:<25} {direction} {row['correlation']:>7.4f} (p={row['p_value']:.2e})\")"
      ]
    },
    {
      "cell_type": "markdown",
      "metadata": {
        "id": "iWWE9qLqTltt"
      },
      "source": [
        "## 9. Summary and Next Steps"
      ]
    },
    {
      "cell_type": "code",
      "execution_count": 29,
      "metadata": {
        "colab": {
          "base_uri": "https://localhost:8080/"
        },
        "id": "gVoZKIJJTltu",
        "outputId": "b597733c-feb5-4b4b-9855-abb8e78c438e"
      },
      "outputs": [
        {
          "name": "stdout",
          "output_type": "stream",
          "text": [
            "📋 PREPROCESSING SUMMARY\n",
            "=========================\n",
            "✅ Dataset processed: (151112, 30)\n",
            "✅ Features created: 30\n",
            "✅ Countries mapped: 182\n",
            "✅ Fraud rate: 9.36%\n",
            "✅ Imbalance ratio: 9.7:1\n",
            "\n",
            "💾 Processed data saved to ../data/processed/fraud_data_processed.csv\n"
          ]
        }
      ],
      "source": [
        "import os\n",
        "\n",
        "print(\"📋 PREPROCESSING SUMMARY\")\n",
        "print(\"=\" * 25)\n",
        "print(f\"✅ Dataset processed: {fraud_df_geo.shape}\")\n",
        "print(f\"✅ Features created: {len(fraud_df_geo.columns)}\")\n",
        "print(f\"✅ Countries mapped: {fraud_df_geo['country'].nunique()}\")\n",
        "print(f\"✅ Fraud rate: {fraud_df_geo['class'].mean()*100:.2f}%\")\n",
        "print(f\"✅ Imbalance ratio: {imbalance_ratio:.1f}:1\")\n",
        "\n",
        "\n",
        "\n",
        "# Define the directory path\n",
        "save_directory = '../data/processed'\n",
        "\n",
        "# Create the directory if it doesn't exist\n",
        "os.makedirs(save_directory, exist_ok=True)\n",
        "\n",
        "# Save processed data\n",
        "fraud_df_geo.to_csv(os.path.join(save_directory, 'fraud_data_processed.csv'), index=False)\n",
        "print(f\"\\n💾 Processed data saved to {os.path.join(save_directory, 'fraud_data_processed.csv')}\")"
      ]
    },
    {
      "cell_type": "markdown",
      "metadata": {
        "id": "9261d9e4"
      },
      "source": [
        "### 6.1 Country Fraud Visualization"
      ]
    }
  ],
  "metadata": {
    "colab": {
      "provenance": []
    },
    "kernelspec": {
      "display_name": "Python 3",
      "language": "python",
      "name": "python3"
    },
    "language_info": {
      "codemirror_mode": {
        "name": "ipython",
        "version": 3
      },
      "file_extension": ".py",
      "mimetype": "text/x-python",
      "name": "python",
      "nbconvert_exporter": "python",
      "pygments_lexer": "ipython3",
      "version": "3.8.5"
    }
  },
  "nbformat": 4,
  "nbformat_minor": 0
}
